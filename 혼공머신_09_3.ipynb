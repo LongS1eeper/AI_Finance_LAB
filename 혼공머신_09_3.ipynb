{
  "cells": [
    {
      "cell_type": "markdown",
      "metadata": {
        "id": "view-in-github",
        "colab_type": "text"
      },
      "source": [
        "<a href=\"https://colab.research.google.com/github/LongS1eeper/ML-DL_Prac/blob/%ED%98%BC%EA%B3%B5/%ED%98%BC%EA%B3%B5%EB%A8%B8%EC%8B%A0_09_3.ipynb\" target=\"_parent\"><img src=\"https://colab.research.google.com/assets/colab-badge.svg\" alt=\"Open In Colab\"/></a>"
      ]
    },
    {
      "cell_type": "markdown",
      "metadata": {
        "id": "AlaMdWF26k2H"
      },
      "source": [
        "# LSTM과 GRU 셀"
      ]
    },
    {
      "cell_type": "code",
      "execution_count": 1,
      "metadata": {
        "id": "fJIx0dHbIAmO"
      },
      "outputs": [],
      "source": [
        "# 실행마다 동일한 결과를 얻기 위해 케라스에 랜덤 시드를 사용하고 텐서플로 연산을 결정적으로 만듭니다.\n",
        "import tensorflow as tf\n",
        "\n",
        "tf.keras.utils.set_random_seed(42)"
      ]
    },
    {
      "cell_type": "markdown",
      "metadata": {
        "id": "KWi9yl0q6k2N"
      },
      "source": [
        "## LSTM 신경망 훈련하기"
      ]
    },
    {
      "cell_type": "code",
      "execution_count": 2,
      "metadata": {
        "colab": {
          "base_uri": "https://localhost:8080/"
        },
        "id": "XL7x0NCx6k2N",
        "outputId": "7738085c-bc84-4716-c264-ad6b3e3eb96f"
      },
      "outputs": [
        {
          "output_type": "stream",
          "name": "stdout",
          "text": [
            "Downloading data from https://storage.googleapis.com/tensorflow/tf-keras-datasets/imdb.npz\n",
            "\u001b[1m17464789/17464789\u001b[0m \u001b[32m━━━━━━━━━━━━━━━━━━━━\u001b[0m\u001b[37m\u001b[0m \u001b[1m0s\u001b[0m 0us/step\n"
          ]
        }
      ],
      "source": [
        "from tensorflow.keras.datasets import imdb\n",
        "from sklearn.model_selection import train_test_split\n",
        "\n",
        "(train_input, train_target), (test_input, test_target) = imdb.load_data(\n",
        "    num_words=500)\n",
        "\n",
        "train_input, val_input, train_target, val_target = train_test_split(\n",
        "    train_input, train_target, test_size=0.2, random_state=42)"
      ]
    },
    {
      "cell_type": "code",
      "execution_count": 3,
      "metadata": {
        "id": "5bjJ14QJ6k2O"
      },
      "outputs": [],
      "source": [
        "from tensorflow.keras.preprocessing.sequence import pad_sequences\n",
        "\n",
        "# pad_sequences로 각 샘플의 길이를 100으로 조작\n",
        "train_seq = pad_sequences(train_input, maxlen=100)\n",
        "val_seq = pad_sequences(val_input, maxlen=100)"
      ]
    },
    {
      "cell_type": "code",
      "execution_count": 4,
      "metadata": {
        "colab": {
          "base_uri": "https://localhost:8080/",
          "height": 281
        },
        "id": "uMlTD4zv6k2O",
        "outputId": "f5a1738d-3b1c-4da0-ada3-fc4c5574d7b4"
      },
      "outputs": [
        {
          "output_type": "stream",
          "name": "stderr",
          "text": [
            "/usr/local/lib/python3.11/dist-packages/keras/src/layers/core/embedding.py:93: UserWarning: Do not pass an `input_shape`/`input_dim` argument to a layer. When using Sequential models, prefer using an `Input(shape)` object as the first layer in the model instead.\n",
            "  super().__init__(**kwargs)\n"
          ]
        },
        {
          "output_type": "display_data",
          "data": {
            "text/plain": [
              "\u001b[1mModel: \"sequential\"\u001b[0m\n"
            ],
            "text/html": [
              "<pre style=\"white-space:pre;overflow-x:auto;line-height:normal;font-family:Menlo,'DejaVu Sans Mono',consolas,'Courier New',monospace\"><span style=\"font-weight: bold\">Model: \"sequential\"</span>\n",
              "</pre>\n"
            ]
          },
          "metadata": {}
        },
        {
          "output_type": "display_data",
          "data": {
            "text/plain": [
              "┏━━━━━━━━━━━━━━━━━━━━━━━━━━━━━━━━━┳━━━━━━━━━━━━━━━━━━━━━━━━┳━━━━━━━━━━━━━━━┓\n",
              "┃\u001b[1m \u001b[0m\u001b[1mLayer (type)                   \u001b[0m\u001b[1m \u001b[0m┃\u001b[1m \u001b[0m\u001b[1mOutput Shape          \u001b[0m\u001b[1m \u001b[0m┃\u001b[1m \u001b[0m\u001b[1m      Param #\u001b[0m\u001b[1m \u001b[0m┃\n",
              "┡━━━━━━━━━━━━━━━━━━━━━━━━━━━━━━━━━╇━━━━━━━━━━━━━━━━━━━━━━━━╇━━━━━━━━━━━━━━━┩\n",
              "│ embedding (\u001b[38;5;33mEmbedding\u001b[0m)           │ (\u001b[38;5;45mNone\u001b[0m, \u001b[38;5;34m100\u001b[0m, \u001b[38;5;34m16\u001b[0m)        │         \u001b[38;5;34m8,000\u001b[0m │\n",
              "├─────────────────────────────────┼────────────────────────┼───────────────┤\n",
              "│ lstm (\u001b[38;5;33mLSTM\u001b[0m)                     │ (\u001b[38;5;45mNone\u001b[0m, \u001b[38;5;34m8\u001b[0m)              │           \u001b[38;5;34m800\u001b[0m │\n",
              "├─────────────────────────────────┼────────────────────────┼───────────────┤\n",
              "│ dense (\u001b[38;5;33mDense\u001b[0m)                   │ (\u001b[38;5;45mNone\u001b[0m, \u001b[38;5;34m1\u001b[0m)              │             \u001b[38;5;34m9\u001b[0m │\n",
              "└─────────────────────────────────┴────────────────────────┴───────────────┘\n"
            ],
            "text/html": [
              "<pre style=\"white-space:pre;overflow-x:auto;line-height:normal;font-family:Menlo,'DejaVu Sans Mono',consolas,'Courier New',monospace\">┏━━━━━━━━━━━━━━━━━━━━━━━━━━━━━━━━━┳━━━━━━━━━━━━━━━━━━━━━━━━┳━━━━━━━━━━━━━━━┓\n",
              "┃<span style=\"font-weight: bold\"> Layer (type)                    </span>┃<span style=\"font-weight: bold\"> Output Shape           </span>┃<span style=\"font-weight: bold\">       Param # </span>┃\n",
              "┡━━━━━━━━━━━━━━━━━━━━━━━━━━━━━━━━━╇━━━━━━━━━━━━━━━━━━━━━━━━╇━━━━━━━━━━━━━━━┩\n",
              "│ embedding (<span style=\"color: #0087ff; text-decoration-color: #0087ff\">Embedding</span>)           │ (<span style=\"color: #00d7ff; text-decoration-color: #00d7ff\">None</span>, <span style=\"color: #00af00; text-decoration-color: #00af00\">100</span>, <span style=\"color: #00af00; text-decoration-color: #00af00\">16</span>)        │         <span style=\"color: #00af00; text-decoration-color: #00af00\">8,000</span> │\n",
              "├─────────────────────────────────┼────────────────────────┼───────────────┤\n",
              "│ lstm (<span style=\"color: #0087ff; text-decoration-color: #0087ff\">LSTM</span>)                     │ (<span style=\"color: #00d7ff; text-decoration-color: #00d7ff\">None</span>, <span style=\"color: #00af00; text-decoration-color: #00af00\">8</span>)              │           <span style=\"color: #00af00; text-decoration-color: #00af00\">800</span> │\n",
              "├─────────────────────────────────┼────────────────────────┼───────────────┤\n",
              "│ dense (<span style=\"color: #0087ff; text-decoration-color: #0087ff\">Dense</span>)                   │ (<span style=\"color: #00d7ff; text-decoration-color: #00d7ff\">None</span>, <span style=\"color: #00af00; text-decoration-color: #00af00\">1</span>)              │             <span style=\"color: #00af00; text-decoration-color: #00af00\">9</span> │\n",
              "└─────────────────────────────────┴────────────────────────┴───────────────┘\n",
              "</pre>\n"
            ]
          },
          "metadata": {}
        },
        {
          "output_type": "display_data",
          "data": {
            "text/plain": [
              "\u001b[1m Total params: \u001b[0m\u001b[38;5;34m8,809\u001b[0m (34.41 KB)\n"
            ],
            "text/html": [
              "<pre style=\"white-space:pre;overflow-x:auto;line-height:normal;font-family:Menlo,'DejaVu Sans Mono',consolas,'Courier New',monospace\"><span style=\"font-weight: bold\"> Total params: </span><span style=\"color: #00af00; text-decoration-color: #00af00\">8,809</span> (34.41 KB)\n",
              "</pre>\n"
            ]
          },
          "metadata": {}
        },
        {
          "output_type": "display_data",
          "data": {
            "text/plain": [
              "\u001b[1m Trainable params: \u001b[0m\u001b[38;5;34m8,809\u001b[0m (34.41 KB)\n"
            ],
            "text/html": [
              "<pre style=\"white-space:pre;overflow-x:auto;line-height:normal;font-family:Menlo,'DejaVu Sans Mono',consolas,'Courier New',monospace\"><span style=\"font-weight: bold\"> Trainable params: </span><span style=\"color: #00af00; text-decoration-color: #00af00\">8,809</span> (34.41 KB)\n",
              "</pre>\n"
            ]
          },
          "metadata": {}
        },
        {
          "output_type": "display_data",
          "data": {
            "text/plain": [
              "\u001b[1m Non-trainable params: \u001b[0m\u001b[38;5;34m0\u001b[0m (0.00 B)\n"
            ],
            "text/html": [
              "<pre style=\"white-space:pre;overflow-x:auto;line-height:normal;font-family:Menlo,'DejaVu Sans Mono',consolas,'Courier New',monospace\"><span style=\"font-weight: bold\"> Non-trainable params: </span><span style=\"color: #00af00; text-decoration-color: #00af00\">0</span> (0.00 B)\n",
              "</pre>\n"
            ]
          },
          "metadata": {}
        }
      ],
      "source": [
        "from tensorflow import keras\n",
        "\n",
        "model = keras.Sequential()\n",
        "\n",
        "# 이전 단원의 SimpleRNN을 LSTM으로 바꾼 모델\n",
        "model.add(keras.layers.Embedding(500, 16, input_shape=(100,)))   # 임베딩 -> 0과 1로 전환\n",
        "model.add(keras.layers.LSTM(8))    # SimpleRNN(1개)에 비해 작은 셀이 4개가 있으므로 4배 증가한 파라미터 800개\n",
        "model.add(keras.layers.Dense(1, activation='sigmoid'))\n",
        "\n",
        "model.summary()"
      ]
    },
    {
      "cell_type": "code",
      "execution_count": null,
      "metadata": {
        "colab": {
          "background_save": true,
          "base_uri": "https://localhost:8080/"
        },
        "id": "nCmqOkjI6k2P",
        "outputId": "965baf8d-9369-45b4-c419-d57e3d05642e"
      },
      "outputs": [
        {
          "output_type": "stream",
          "name": "stdout",
          "text": [
            "Epoch 1/100\n",
            "\u001b[1m313/313\u001b[0m \u001b[32m━━━━━━━━━━━━━━━━━━━━\u001b[0m\u001b[37m\u001b[0m \u001b[1m15s\u001b[0m 38ms/step - accuracy: 0.5110 - loss: 0.6929 - val_accuracy: 0.5864 - val_loss: 0.6911\n",
            "Epoch 2/100\n",
            "\u001b[1m313/313\u001b[0m \u001b[32m━━━━━━━━━━━━━━━━━━━━\u001b[0m\u001b[37m\u001b[0m \u001b[1m12s\u001b[0m 37ms/step - accuracy: 0.5784 - loss: 0.6907 - val_accuracy: 0.6258 - val_loss: 0.6874\n",
            "Epoch 3/100\n",
            "\u001b[1m313/313\u001b[0m \u001b[32m━━━━━━━━━━━━━━━━━━━━\u001b[0m\u001b[37m\u001b[0m \u001b[1m21s\u001b[0m 40ms/step - accuracy: 0.6217 - loss: 0.6858 - val_accuracy: 0.6562 - val_loss: 0.6765\n",
            "Epoch 4/100\n",
            "\u001b[1m313/313\u001b[0m \u001b[32m━━━━━━━━━━━━━━━━━━━━\u001b[0m\u001b[37m\u001b[0m \u001b[1m21s\u001b[0m 41ms/step - accuracy: 0.6681 - loss: 0.6682 - val_accuracy: 0.7096 - val_loss: 0.6177\n",
            "Epoch 5/100\n",
            "\u001b[1m313/313\u001b[0m \u001b[32m━━━━━━━━━━━━━━━━━━━━\u001b[0m\u001b[37m\u001b[0m \u001b[1m20s\u001b[0m 39ms/step - accuracy: 0.7180 - loss: 0.6006 - val_accuracy: 0.7248 - val_loss: 0.5760\n",
            "Epoch 6/100\n",
            "\u001b[1m313/313\u001b[0m \u001b[32m━━━━━━━━━━━━━━━━━━━━\u001b[0m\u001b[37m\u001b[0m \u001b[1m12s\u001b[0m 37ms/step - accuracy: 0.7282 - loss: 0.5690 - val_accuracy: 0.7404 - val_loss: 0.5555\n",
            "Epoch 7/100\n",
            "\u001b[1m313/313\u001b[0m \u001b[32m━━━━━━━━━━━━━━━━━━━━\u001b[0m\u001b[37m\u001b[0m \u001b[1m12s\u001b[0m 39ms/step - accuracy: 0.7481 - loss: 0.5465 - val_accuracy: 0.7450 - val_loss: 0.5383\n",
            "Epoch 8/100\n",
            "\u001b[1m313/313\u001b[0m \u001b[32m━━━━━━━━━━━━━━━━━━━━\u001b[0m\u001b[37m\u001b[0m \u001b[1m20s\u001b[0m 39ms/step - accuracy: 0.7600 - loss: 0.5274 - val_accuracy: 0.7588 - val_loss: 0.5216\n",
            "Epoch 9/100\n",
            "\u001b[1m313/313\u001b[0m \u001b[32m━━━━━━━━━━━━━━━━━━━━\u001b[0m\u001b[37m\u001b[0m \u001b[1m13s\u001b[0m 40ms/step - accuracy: 0.7688 - loss: 0.5110 - val_accuracy: 0.7698 - val_loss: 0.5076\n",
            "Epoch 10/100\n",
            "\u001b[1m313/313\u001b[0m \u001b[32m━━━━━━━━━━━━━━━━━━━━\u001b[0m\u001b[37m\u001b[0m \u001b[1m20s\u001b[0m 38ms/step - accuracy: 0.7777 - loss: 0.4972 - val_accuracy: 0.7746 - val_loss: 0.4959\n",
            "Epoch 11/100\n",
            "\u001b[1m313/313\u001b[0m \u001b[32m━━━━━━━━━━━━━━━━━━━━\u001b[0m\u001b[37m\u001b[0m \u001b[1m12s\u001b[0m 38ms/step - accuracy: 0.7831 - loss: 0.4853 - val_accuracy: 0.7802 - val_loss: 0.4862\n",
            "Epoch 12/100\n",
            "\u001b[1m313/313\u001b[0m \u001b[32m━━━━━━━━━━━━━━━━━━━━\u001b[0m\u001b[37m\u001b[0m \u001b[1m20s\u001b[0m 39ms/step - accuracy: 0.7885 - loss: 0.4750 - val_accuracy: 0.7850 - val_loss: 0.4781\n",
            "Epoch 13/100\n",
            "\u001b[1m313/313\u001b[0m \u001b[32m━━━━━━━━━━━━━━━━━━━━\u001b[0m\u001b[37m\u001b[0m \u001b[1m20s\u001b[0m 38ms/step - accuracy: 0.7936 - loss: 0.4662 - val_accuracy: 0.7874 - val_loss: 0.4713\n",
            "Epoch 14/100\n",
            "\u001b[1m313/313\u001b[0m \u001b[32m━━━━━━━━━━━━━━━━━━━━\u001b[0m\u001b[37m\u001b[0m \u001b[1m22s\u001b[0m 42ms/step - accuracy: 0.7961 - loss: 0.4585 - val_accuracy: 0.7876 - val_loss: 0.4659\n",
            "Epoch 15/100\n",
            "\u001b[1m313/313\u001b[0m \u001b[32m━━━━━━━━━━━━━━━━━━━━\u001b[0m\u001b[37m\u001b[0m \u001b[1m19s\u001b[0m 37ms/step - accuracy: 0.8009 - loss: 0.4519 - val_accuracy: 0.7904 - val_loss: 0.4614\n",
            "Epoch 16/100\n",
            "\u001b[1m313/313\u001b[0m \u001b[32m━━━━━━━━━━━━━━━━━━━━\u001b[0m\u001b[37m\u001b[0m \u001b[1m21s\u001b[0m 38ms/step - accuracy: 0.8036 - loss: 0.4461 - val_accuracy: 0.7920 - val_loss: 0.4577\n",
            "Epoch 17/100\n",
            "\u001b[1m313/313\u001b[0m \u001b[32m━━━━━━━━━━━━━━━━━━━━\u001b[0m\u001b[37m\u001b[0m \u001b[1m20s\u001b[0m 38ms/step - accuracy: 0.8054 - loss: 0.4411 - val_accuracy: 0.7900 - val_loss: 0.4548\n",
            "Epoch 18/100\n",
            "\u001b[1m313/313\u001b[0m \u001b[32m━━━━━━━━━━━━━━━━━━━━\u001b[0m\u001b[37m\u001b[0m \u001b[1m12s\u001b[0m 40ms/step - accuracy: 0.8083 - loss: 0.4369 - val_accuracy: 0.7898 - val_loss: 0.4524\n",
            "Epoch 19/100\n",
            "\u001b[1m313/313\u001b[0m \u001b[32m━━━━━━━━━━━━━━━━━━━━\u001b[0m\u001b[37m\u001b[0m \u001b[1m19s\u001b[0m 36ms/step - accuracy: 0.8104 - loss: 0.4332 - val_accuracy: 0.7908 - val_loss: 0.4504\n",
            "Epoch 20/100\n",
            "\u001b[1m313/313\u001b[0m \u001b[32m━━━━━━━━━━━━━━━━━━━━\u001b[0m\u001b[37m\u001b[0m \u001b[1m21s\u001b[0m 38ms/step - accuracy: 0.8117 - loss: 0.4300 - val_accuracy: 0.7904 - val_loss: 0.4488\n",
            "Epoch 21/100\n",
            "\u001b[1m313/313\u001b[0m \u001b[32m━━━━━━━━━━━━━━━━━━━━\u001b[0m\u001b[37m\u001b[0m \u001b[1m12s\u001b[0m 40ms/step - accuracy: 0.8128 - loss: 0.4273 - val_accuracy: 0.7902 - val_loss: 0.4475\n",
            "Epoch 22/100\n",
            "\u001b[1m313/313\u001b[0m \u001b[32m━━━━━━━━━━━━━━━━━━━━\u001b[0m\u001b[37m\u001b[0m \u001b[1m20s\u001b[0m 38ms/step - accuracy: 0.8135 - loss: 0.4249 - val_accuracy: 0.7888 - val_loss: 0.4463\n",
            "Epoch 23/100\n",
            "\u001b[1m313/313\u001b[0m \u001b[32m━━━━━━━━━━━━━━━━━━━━\u001b[0m\u001b[37m\u001b[0m \u001b[1m12s\u001b[0m 38ms/step - accuracy: 0.8139 - loss: 0.4228 - val_accuracy: 0.7894 - val_loss: 0.4453\n",
            "Epoch 24/100\n",
            "\u001b[1m313/313\u001b[0m \u001b[32m━━━━━━━━━━━━━━━━━━━━\u001b[0m\u001b[37m\u001b[0m \u001b[1m13s\u001b[0m 40ms/step - accuracy: 0.8139 - loss: 0.4210 - val_accuracy: 0.7886 - val_loss: 0.4444\n",
            "Epoch 25/100\n",
            "\u001b[1m313/313\u001b[0m \u001b[32m━━━━━━━━━━━━━━━━━━━━\u001b[0m\u001b[37m\u001b[0m \u001b[1m12s\u001b[0m 40ms/step - accuracy: 0.8144 - loss: 0.4194 - val_accuracy: 0.7884 - val_loss: 0.4436\n",
            "Epoch 26/100\n",
            "\u001b[1m313/313\u001b[0m \u001b[32m━━━━━━━━━━━━━━━━━━━━\u001b[0m\u001b[37m\u001b[0m \u001b[1m12s\u001b[0m 38ms/step - accuracy: 0.8152 - loss: 0.4179 - val_accuracy: 0.7902 - val_loss: 0.4429\n",
            "Epoch 27/100\n",
            "\u001b[1m313/313\u001b[0m \u001b[32m━━━━━━━━━━━━━━━━━━━━\u001b[0m\u001b[37m\u001b[0m \u001b[1m12s\u001b[0m 37ms/step - accuracy: 0.8148 - loss: 0.4166 - val_accuracy: 0.7914 - val_loss: 0.4422\n",
            "Epoch 28/100\n",
            "\u001b[1m191/313\u001b[0m \u001b[32m━━━━━━━━━━━━\u001b[0m\u001b[37m━━━━━━━━\u001b[0m \u001b[1m4s\u001b[0m 38ms/step - accuracy: 0.8145 - loss: 0.4148"
          ]
        }
      ],
      "source": [
        "rmsprop = keras.optimizers.RMSprop(learning_rate=1e-4)\n",
        "model.compile(optimizer=rmsprop, loss='binary_crossentropy',\n",
        "              metrics=['accuracy'])\n",
        "\n",
        "# 체크포인트와 중단 설정도 동일\n",
        "checkpoint_cb = keras.callbacks.ModelCheckpoint('best-lstm-model.keras',\n",
        "                                                save_best_only=True)\n",
        "early_stopping_cb = keras.callbacks.EarlyStopping(patience=3,\n",
        "                                                  restore_best_weights=True)\n",
        "\n",
        "history = model.fit(train_seq, train_target, epochs=100, batch_size=64,\n",
        "                    validation_data=(val_seq, val_target),\n",
        "                    callbacks=[checkpoint_cb, early_stopping_cb])"
      ]
    },
    {
      "cell_type": "code",
      "execution_count": null,
      "metadata": {
        "colab": {
          "background_save": true
        },
        "id": "Xl1bliNr6k2Q"
      },
      "outputs": [],
      "source": [
        "import matplotlib.pyplot as plt\n",
        "\n",
        "plt.plot(history.history['loss'])\n",
        "plt.plot(history.history['val_loss'])\n",
        "plt.xlabel('epoch')\n",
        "plt.ylabel('loss')\n",
        "plt.legend(['train', 'val'])\n",
        "plt.show()"
      ]
    },
    {
      "cell_type": "markdown",
      "metadata": {
        "id": "ob79h7Kc6k2Q"
      },
      "source": [
        "## 순환 층에 드롭아웃 적용하기"
      ]
    },
    {
      "cell_type": "code",
      "execution_count": null,
      "metadata": {
        "colab": {
          "background_save": true
        },
        "id": "Fr0DUR-Y6k2R"
      },
      "outputs": [],
      "source": [
        "model2 = keras.Sequential()\n",
        "\n",
        "model2.add(keras.layers.Embedding(500, 16, input_shape=(100,)))\n",
        "model2.add(keras.layers.LSTM(8, dropout=0.3))  # 과대적합 방지\n",
        "model2.add(keras.layers.Dense(1, activation='sigmoid'))"
      ]
    },
    {
      "cell_type": "code",
      "execution_count": null,
      "metadata": {
        "colab": {
          "background_save": true
        },
        "id": "Ap8XxUO46k2R"
      },
      "outputs": [],
      "source": [
        "rmsprop = keras.optimizers.RMSprop(learning_rate=1e-4)\n",
        "model2.compile(optimizer=rmsprop, loss='binary_crossentropy',\n",
        "               metrics=['accuracy'])\n",
        "\n",
        "checkpoint_cb = keras.callbacks.ModelCheckpoint('best-dropout-model.keras',\n",
        "                                                save_best_only=True)\n",
        "early_stopping_cb = keras.callbacks.EarlyStopping(patience=3,\n",
        "                                                  restore_best_weights=True)\n",
        "\n",
        "history = model2.fit(train_seq, train_target, epochs=100, batch_size=64,\n",
        "                     validation_data=(val_seq, val_target),\n",
        "                     callbacks=[checkpoint_cb, early_stopping_cb])"
      ]
    },
    {
      "cell_type": "code",
      "execution_count": null,
      "metadata": {
        "colab": {
          "background_save": true
        },
        "id": "Qzwsp3pl6k2R"
      },
      "outputs": [],
      "source": [
        "# 드롭아웃의 결과로 훈련 손실과 검증 손실 간의 차이가 좁혀짐\n",
        "plt.plot(history.history['loss'])\n",
        "plt.plot(history.history['val_loss'])\n",
        "plt.xlabel('epoch')\n",
        "plt.ylabel('loss')\n",
        "plt.legend(['train', 'val'])\n",
        "plt.show()"
      ]
    },
    {
      "cell_type": "markdown",
      "metadata": {
        "id": "DKtQByM96k2S"
      },
      "source": [
        "## 2개의 층을 연결하기\n",
        "* 밀집층과 합성곱 층 처럼 순환층도 여러 개를 쌓을 수 있음\n",
        "![image.png](data:image/png;base64,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)"
      ]
    },
    {
      "cell_type": "code",
      "execution_count": null,
      "metadata": {
        "colab": {
          "background_save": true
        },
        "id": "YkQboCpD6k2S"
      },
      "outputs": [],
      "source": [
        "model3 = keras.Sequential()\n",
        "\n",
        "model3.add(keras.layers.Embedding(500, 16, input_shape=(100,)))\n",
        "model3.add(keras.layers.LSTM(8, dropout=0.3, return_sequences=True))  # 모든 타임스탭의 은닉 상태를 출력하므로 (None, 100, 8)\n",
        "model3.add(keras.layers.LSTM(8, dropout=0.3))\n",
        "model3.add(keras.layers.Dense(1, activation='sigmoid'))\n",
        "\n",
        "model3.summary()"
      ]
    },
    {
      "cell_type": "code",
      "execution_count": null,
      "metadata": {
        "colab": {
          "background_save": true
        },
        "id": "hDk_ffAo6k2S"
      },
      "outputs": [],
      "source": [
        "# 옵티마이저 설정: RMSprop을 학습률 1e-4로 생성\n",
        "rmsprop = keras.optimizers.RMSprop(learning_rate=1e-4)\n",
        "\n",
        "# 모델 컴파일: RMSprop, 이진 크로스엔트로피 손실, 정확도 지표\n",
        "model3.compile(\n",
        "    optimizer=rmsprop,\n",
        "    loss='binary_crossentropy',\n",
        "    metrics=['accuracy']\n",
        ")\n",
        "\n",
        "# 최적 모델 저장: 검증 손실이 개선될 때마다 'best-2rnn-model.keras'에 저장\n",
        "checkpoint_cb = keras.callbacks.ModelCheckpoint(\n",
        "    'best-2rnn-model.keras',\n",
        "    save_best_only=True\n",
        ")\n",
        "\n",
        "# 조기 종료: 검증 손실이 연속 3회 개선 없으면 학습 중단, 최적 가중치 복원\n",
        "early_stopping_cb = keras.callbacks.EarlyStopping(\n",
        "    patience=3,\n",
        "    restore_best_weights=True\n",
        ")\n",
        "\n",
        "# 모델 훈련: 100 에포크, 배치 크기 64, 검증 데이터와 콜백 적용\n",
        "history = model3.fit(\n",
        "    train_seq,               # 패딩된 훈련 시퀀스 (shape: [샘플 수, 시퀀스 길이])\n",
        "    train_target,            # 훈련 레이블 (0/1)\n",
        "    epochs=100,              # 최대 에포크 수\n",
        "    batch_size=64,           # 미니배치 크기\n",
        "    validation_data=(val_seq, val_target),  # 검증 데이터\n",
        "    callbacks=[checkpoint_cb, early_stopping_cb]  # 콜백 리스트\n",
        ")\n"
      ]
    },
    {
      "cell_type": "code",
      "execution_count": null,
      "metadata": {
        "colab": {
          "background_save": true
        },
        "id": "1paBqczf6k2S"
      },
      "outputs": [],
      "source": [
        "plt.plot(history.history['loss'])\n",
        "plt.plot(history.history['val_loss'])\n",
        "plt.xlabel('epoch')\n",
        "plt.ylabel('loss')\n",
        "plt.legend(['train', 'val'])\n",
        "plt.show()"
      ]
    },
    {
      "cell_type": "markdown",
      "metadata": {
        "id": "Jisn0P9h6k2T"
      },
      "source": [
        "## GRU 신경망 훈련하기\n",
        "* GRU 셀"
      ]
    },
    {
      "cell_type": "code",
      "execution_count": null,
      "metadata": {
        "colab": {
          "background_save": true
        },
        "id": "dwYF578d6k2T"
      },
      "outputs": [],
      "source": [
        "model4 = keras.Sequential()\n",
        "\n",
        "model4.add(keras.layers.Embedding(500, 16, input_shape=(100,)))\n",
        "model4.add(keras.layers.GRU(8))     # NEW 신경망 층\n",
        "model4.add(keras.layers.Dense(1, activation='sigmoid'))\n",
        "\n",
        "model4.summary()"
      ]
    },
    {
      "cell_type": "code",
      "execution_count": null,
      "metadata": {
        "colab": {
          "background_save": true
        },
        "id": "j2SfOZ3v6k2U"
      },
      "outputs": [],
      "source": [
        "rmsprop = keras.optimizers.RMSprop(learning_rate=1e-4)\n",
        "model4.compile(optimizer=rmsprop, loss='binary_crossentropy',\n",
        "               metrics=['accuracy'])\n",
        "\n",
        "checkpoint_cb = keras.callbacks.ModelCheckpoint('best-gru-model.keras',\n",
        "                                                save_best_only=True)\n",
        "early_stopping_cb = keras.callbacks.EarlyStopping(patience=3,\n",
        "                                                  restore_best_weights=True)\n",
        "\n",
        "history = model4.fit(train_seq, train_target, epochs=100, batch_size=64,\n",
        "                     validation_data=(val_seq, val_target),\n",
        "                     callbacks=[checkpoint_cb, early_stopping_cb])"
      ]
    },
    {
      "cell_type": "code",
      "execution_count": null,
      "metadata": {
        "id": "3yUJM4nA6k2U"
      },
      "outputs": [],
      "source": [
        "plt.plot(history.history['loss'])\n",
        "plt.plot(history.history['val_loss'])\n",
        "plt.xlabel('epoch')\n",
        "plt.ylabel('loss')\n",
        "plt.legend(['train', 'val'])\n",
        "plt.show()"
      ]
    },
    {
      "cell_type": "markdown",
      "metadata": {
        "id": "Ja3-116b6k2V"
      },
      "source": [
        "## 마무리"
      ]
    },
    {
      "cell_type": "code",
      "execution_count": null,
      "metadata": {
        "id": "-5WtFRN-6k2V"
      },
      "outputs": [],
      "source": [
        "test_seq = pad_sequences(test_input, maxlen=100)\n",
        "\n",
        "rnn_model = keras.models.load_model('best-2rnn-model.keras')\n",
        "\n",
        "rnn_model.evaluate(test_seq, test_target)"
      ]
    }
  ],
  "metadata": {
    "colab": {
      "provenance": [],
      "gpuType": "T4",
      "authorship_tag": "ABX9TyMuZTjTMcl8NXatRRtY6s/q",
      "include_colab_link": true
    },
    "kernelspec": {
      "display_name": "Python 3",
      "name": "python3"
    },
    "language_info": {
      "name": "python"
    },
    "accelerator": "GPU"
  },
  "nbformat": 4,
  "nbformat_minor": 0
}